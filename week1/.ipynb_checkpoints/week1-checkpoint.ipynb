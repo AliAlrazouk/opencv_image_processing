{
 "cells": [
  {
   "cell_type": "code",
   "execution_count": 1,
   "id": "a8bdbc86",
   "metadata": {},
   "outputs": [
    {
     "name": "stdout",
     "output_type": "stream",
     "text": [
      "[[0. 0.]\n",
      " [0. 0.]\n",
      " [0. 0.]]\n"
     ]
    }
   ],
   "source": [
    "import numpy as np\n",
    "array =np.zeros( (3,2) )\n",
    "print(array)"
   ]
  },
  {
   "cell_type": "code",
   "execution_count": 2,
   "id": "dc32fc17",
   "metadata": {},
   "outputs": [
    {
     "name": "stdout",
     "output_type": "stream",
     "text": [
      "[[1. 1. 1. 1. 1.]]\n"
     ]
    }
   ],
   "source": [
    "array =np.ones( (1,5) )\n",
    "print(array)"
   ]
  },
  {
   "cell_type": "code",
   "execution_count": 3,
   "id": "516dd0c7",
   "metadata": {},
   "outputs": [
    {
     "name": "stdout",
     "output_type": "stream",
     "text": [
      "Kac Adet Sayi Girilecek: 5\n",
      "Sayiyi Girin: 3\n",
      "Sayiyi Girin: 5\n",
      "Sayiyi Girin: 7\n",
      "Sayiyi Girin: 9\n",
      "Sayiyi Girin: 12\n",
      "Girilen Sayilarin Ortalamasi:  7.2\n"
     ]
    }
   ],
   "source": [
    "n = int(input(\"Kac Adet Sayi Girilecek: \"))\n",
    "a = []\n",
    "for i in range(0,n):\n",
    "    elem = int(input(\"Sayiyi Girin: \"))\n",
    "    a.append(elem)\n",
    "avg = sum(a) / n\n",
    "print(\"Girilen Sayilarin Ortalamasi: \", round(avg,2))"
   ]
  },
  {
   "cell_type": "code",
   "execution_count": null,
   "id": "f44974d5",
   "metadata": {},
   "outputs": [],
   "source": []
  }
 ],
 "metadata": {
  "kernelspec": {
   "display_name": "Python 3 (ipykernel)",
   "language": "python",
   "name": "python3"
  },
  "language_info": {
   "codemirror_mode": {
    "name": "ipython",
    "version": 3
   },
   "file_extension": ".py",
   "mimetype": "text/x-python",
   "name": "python",
   "nbconvert_exporter": "python",
   "pygments_lexer": "ipython3",
   "version": "3.9.13"
  }
 },
 "nbformat": 4,
 "nbformat_minor": 5
}
